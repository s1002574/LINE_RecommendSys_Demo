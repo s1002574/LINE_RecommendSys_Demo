{
 "cells": [
  {
   "cell_type": "markdown",
   "metadata": {},
   "source": [
    "# Import Modules"
   ]
  },
  {
   "cell_type": "code",
   "execution_count": 1,
   "metadata": {},
   "outputs": [],
   "source": [
    "import pandas as pd\n",
    "import numpy as np\n",
    "\n",
    "import time\n",
    "import sys\n",
    "\n",
    "from ML_toolbox import data_describe as dd\n",
    "\n",
    "from recommand_sys_svd import svd_recommand_sys as srs"
   ]
  },
  {
   "cell_type": "markdown",
   "metadata": {},
   "source": [
    "# Load Data"
   ]
  },
  {
   "cell_type": "code",
   "execution_count": 2,
   "metadata": {},
   "outputs": [
    {
     "name": "stdout",
     "output_type": "stream",
     "text": [
      "(445, 9)\n",
      "Index(['member_id', 'name', 'age', 'regist_days', 'last_purchaseday',\n",
      "       'tol_purchase_price', 'tol_purchase_times', 'gender',\n",
      "       'membership_source'],\n",
      "      dtype='object')\n",
      "(649, 21)\n",
      "Index(['cart_id', 'member_id', 'retailer', 'address', 'channel', 'category',\n",
      "       'brand', 'cnt', 'per_price', 'shipping_fee', 'discount', 'payment',\n",
      "       'attribute', 'additional_purchase', 'age', 'regist_days',\n",
      "       'last_purchaseday', 'tol_purchase_price', 'tol_purchase_time', 'gender',\n",
      "       'membership_source'],\n",
      "      dtype='object')\n"
     ]
    }
   ],
   "source": [
    "path = ['data/', 'result/']\n",
    "file = ['client', 'all_data']\n",
    "res_file = ['group_top_n_brand', 'group_top_n_category', 'group_top_n_pair']\n",
    "top_file = ['top_n_brand', 'top_n_category', 'top_n_cb']\n",
    "\n",
    "df_client = pd.read_csv(f'{path[0]}{file[0]}.csv', encoding='utf8')\n",
    "df_all = pd.read_csv(f'{path[0]}{file[1]}.csv', encoding='utf8')\n",
    "\n",
    "print(df_client.shape)\n",
    "print(df_client.columns)\n",
    "\n",
    "print(df_all.shape)\n",
    "print(df_all.columns)\n",
    "\n",
    "cat_map = {1:'去角質', 2:'沐浴', 3:'其他', 4:'卸妝', 5:'底妝',\n",
    "           6:'保濕', 7:'持妝', 8:'洗髮', 9:'洗顏', 10:'眉毛',\n",
    "           11:'美白', 12:'眼線', 13:'睫毛', 14:'補妝', 15:'遮瑕', 16:'護唇'}"
   ]
  },
  {
   "cell_type": "raw",
   "metadata": {},
   "source": [
    "# data info\n",
    "dd.data_describe(df_all)"
   ]
  },
  {
   "cell_type": "code",
   "execution_count": 3,
   "metadata": {
    "scrolled": true
   },
   "outputs": [
    {
     "name": "stderr",
     "output_type": "stream",
     "text": [
      "C:\\Users\\ASUS\\AppData\\Local\\Programs\\Python\\Python36\\lib\\site-packages\\ipykernel_launcher.py:2: SettingWithCopyWarning: \n",
      "A value is trying to be set on a copy of a slice from a DataFrame.\n",
      "Try using .loc[row_indexer,col_indexer] = value instead\n",
      "\n",
      "See the caveats in the documentation: http://pandas.pydata.org/pandas-docs/stable/indexing.html#indexing-view-versus-copy\n",
      "  \n"
     ]
    },
    {
     "data": {
      "text/html": [
       "<div>\n",
       "<style scoped>\n",
       "    .dataframe tbody tr th:only-of-type {\n",
       "        vertical-align: middle;\n",
       "    }\n",
       "\n",
       "    .dataframe tbody tr th {\n",
       "        vertical-align: top;\n",
       "    }\n",
       "\n",
       "    .dataframe thead th {\n",
       "        text-align: right;\n",
       "    }\n",
       "</style>\n",
       "<table border=\"1\" class=\"dataframe\">\n",
       "  <thead>\n",
       "    <tr style=\"text-align: right;\">\n",
       "      <th></th>\n",
       "      <th>member_id</th>\n",
       "      <th>age</th>\n",
       "      <th>gender</th>\n",
       "      <th>category</th>\n",
       "      <th>brand</th>\n",
       "      <th>cnt</th>\n",
       "      <th>per_price</th>\n",
       "      <th>score</th>\n",
       "    </tr>\n",
       "  </thead>\n",
       "  <tbody>\n",
       "    <tr>\n",
       "      <th>0</th>\n",
       "      <td>5105005930</td>\n",
       "      <td>0</td>\n",
       "      <td>-1</td>\n",
       "      <td>10</td>\n",
       "      <td>ANGFA</td>\n",
       "      <td>1</td>\n",
       "      <td>558</td>\n",
       "      <td>558</td>\n",
       "    </tr>\n",
       "    <tr>\n",
       "      <th>1</th>\n",
       "      <td>5503419373</td>\n",
       "      <td>0</td>\n",
       "      <td>-1</td>\n",
       "      <td>8</td>\n",
       "      <td>KOSE</td>\n",
       "      <td>2</td>\n",
       "      <td>432</td>\n",
       "      <td>864</td>\n",
       "    </tr>\n",
       "    <tr>\n",
       "      <th>2</th>\n",
       "      <td>5503419373</td>\n",
       "      <td>0</td>\n",
       "      <td>-1</td>\n",
       "      <td>2</td>\n",
       "      <td>KOSE</td>\n",
       "      <td>1</td>\n",
       "      <td>288</td>\n",
       "      <td>288</td>\n",
       "    </tr>\n",
       "    <tr>\n",
       "      <th>3</th>\n",
       "      <td>5506618770</td>\n",
       "      <td>0</td>\n",
       "      <td>-1</td>\n",
       "      <td>13</td>\n",
       "      <td>ANGFA</td>\n",
       "      <td>1</td>\n",
       "      <td>620</td>\n",
       "      <td>620</td>\n",
       "    </tr>\n",
       "    <tr>\n",
       "      <th>4</th>\n",
       "      <td>5501147671</td>\n",
       "      <td>0</td>\n",
       "      <td>-1</td>\n",
       "      <td>2</td>\n",
       "      <td>KOSE</td>\n",
       "      <td>2</td>\n",
       "      <td>288</td>\n",
       "      <td>576</td>\n",
       "    </tr>\n",
       "  </tbody>\n",
       "</table>\n",
       "</div>"
      ],
      "text/plain": [
       "    member_id  age  gender  category  brand  cnt  per_price  score\n",
       "0  5105005930    0      -1        10  ANGFA    1        558    558\n",
       "1  5503419373    0      -1         8   KOSE    2        432    864\n",
       "2  5503419373    0      -1         2   KOSE    1        288    288\n",
       "3  5506618770    0      -1        13  ANGFA    1        620    620\n",
       "4  5501147671    0      -1         2   KOSE    2        288    576"
      ]
     },
     "execution_count": 3,
     "metadata": {},
     "output_type": "execute_result"
    }
   ],
   "source": [
    "df_group = df_all[['member_id','age', 'gender', 'category', 'brand', 'cnt', 'per_price']]\n",
    "df_group['score'] = df_group['cnt']*df_group['per_price']\n",
    "df_group.head()"
   ]
  },
  {
   "cell_type": "code",
   "execution_count": 4,
   "metadata": {},
   "outputs": [
    {
     "data": {
      "text/plain": [
       "member_id    False\n",
       "age          False\n",
       "gender       False\n",
       "category     False\n",
       "brand        False\n",
       "cnt          False\n",
       "per_price    False\n",
       "score        False\n",
       "dtype: bool"
      ]
     },
     "execution_count": 4,
     "metadata": {},
     "output_type": "execute_result"
    }
   ],
   "source": [
    "df_group.isnull().any()"
   ]
  },
  {
   "cell_type": "markdown",
   "metadata": {},
   "source": [
    "---\n",
    "# Table of user group"
   ]
  },
  {
   "cell_type": "code",
   "execution_count": 5,
   "metadata": {},
   "outputs": [
    {
     "name": "stdout",
     "output_type": "stream",
     "text": [
      "[0 2 4 3 5 1]\n"
     ]
    },
    {
     "name": "stderr",
     "output_type": "stream",
     "text": [
      "C:\\Users\\ASUS\\AppData\\Local\\Programs\\Python\\Python36\\lib\\site-packages\\pandas\\core\\generic.py:4405: SettingWithCopyWarning: \n",
      "A value is trying to be set on a copy of a slice from a DataFrame.\n",
      "Try using .loc[row_indexer,col_indexer] = value instead\n",
      "\n",
      "See the caveats in the documentation: http://pandas.pydata.org/pandas-docs/stable/indexing.html#indexing-view-versus-copy\n",
      "  self[name] = value\n",
      "C:\\Users\\ASUS\\AppData\\Local\\Programs\\Python\\Python36\\lib\\site-packages\\ipykernel_launcher.py:6: SettingWithCopyWarning: \n",
      "A value is trying to be set on a copy of a slice from a DataFrame.\n",
      "Try using .loc[row_indexer,col_indexer] = value instead\n",
      "\n",
      "See the caveats in the documentation: http://pandas.pydata.org/pandas-docs/stable/indexing.html#indexing-view-versus-copy\n",
      "  \n"
     ]
    },
    {
     "data": {
      "text/plain": [
       "member_id    False\n",
       "age          False\n",
       "gender       False\n",
       "category     False\n",
       "brand        False\n",
       "cnt          False\n",
       "per_price    False\n",
       "score        False\n",
       "dtype: bool"
      ]
     },
     "execution_count": 5,
     "metadata": {},
     "output_type": "execute_result"
    }
   ],
   "source": [
    "# make column age be level\n",
    "\n",
    "bins = [0, 19, 22, 23, 32, 40, 100]\n",
    "group_name = [0, 1, 2, 3, 4, 5]\n",
    "df_group.age = pd.cut(df_group.age, bins, labels = group_name, right=False)\n",
    "df_group['age'] = df_group['age'].astype(int)\n",
    "print(df_group.age.unique())\n",
    "df_group.isnull().any()"
   ]
  },
  {
   "cell_type": "code",
   "execution_count": 6,
   "metadata": {},
   "outputs": [
    {
     "name": "stderr",
     "output_type": "stream",
     "text": [
      "C:\\Users\\ASUS\\AppData\\Local\\Programs\\Python\\Python36\\lib\\site-packages\\ipykernel_launcher.py:1: SettingWithCopyWarning: \n",
      "A value is trying to be set on a copy of a slice from a DataFrame.\n",
      "Try using .loc[row_indexer,col_indexer] = value instead\n",
      "\n",
      "See the caveats in the documentation: http://pandas.pydata.org/pandas-docs/stable/indexing.html#indexing-view-versus-copy\n",
      "  \"\"\"Entry point for launching an IPython kernel.\n",
      "C:\\Users\\ASUS\\AppData\\Local\\Programs\\Python\\Python36\\lib\\site-packages\\ipykernel_launcher.py:2: SettingWithCopyWarning: \n",
      "A value is trying to be set on a copy of a slice from a DataFrame.\n",
      "Try using .loc[row_indexer,col_indexer] = value instead\n",
      "\n",
      "See the caveats in the documentation: http://pandas.pydata.org/pandas-docs/stable/indexing.html#indexing-view-versus-copy\n",
      "  \n",
      "C:\\Users\\ASUS\\AppData\\Local\\Programs\\Python\\Python36\\lib\\site-packages\\ipykernel_launcher.py:4: SettingWithCopyWarning: \n",
      "A value is trying to be set on a copy of a slice from a DataFrame.\n",
      "Try using .loc[row_indexer,col_indexer] = value instead\n",
      "\n",
      "See the caveats in the documentation: http://pandas.pydata.org/pandas-docs/stable/indexing.html#indexing-view-versus-copy\n",
      "  after removing the cwd from sys.path.\n"
     ]
    },
    {
     "data": {
      "text/html": [
       "<div>\n",
       "<style scoped>\n",
       "    .dataframe tbody tr th:only-of-type {\n",
       "        vertical-align: middle;\n",
       "    }\n",
       "\n",
       "    .dataframe tbody tr th {\n",
       "        vertical-align: top;\n",
       "    }\n",
       "\n",
       "    .dataframe thead th {\n",
       "        text-align: right;\n",
       "    }\n",
       "</style>\n",
       "<table border=\"1\" class=\"dataframe\">\n",
       "  <thead>\n",
       "    <tr style=\"text-align: right;\">\n",
       "      <th></th>\n",
       "      <th>member_id</th>\n",
       "      <th>age</th>\n",
       "      <th>gender</th>\n",
       "      <th>category</th>\n",
       "      <th>brand</th>\n",
       "      <th>cnt</th>\n",
       "      <th>per_price</th>\n",
       "      <th>score</th>\n",
       "      <th>group</th>\n",
       "    </tr>\n",
       "  </thead>\n",
       "  <tbody>\n",
       "    <tr>\n",
       "      <th>0</th>\n",
       "      <td>5105005930</td>\n",
       "      <td>0</td>\n",
       "      <td>-1</td>\n",
       "      <td>10</td>\n",
       "      <td>ANGFA</td>\n",
       "      <td>1</td>\n",
       "      <td>558</td>\n",
       "      <td>558</td>\n",
       "      <td>0_-1</td>\n",
       "    </tr>\n",
       "    <tr>\n",
       "      <th>1</th>\n",
       "      <td>5503419373</td>\n",
       "      <td>0</td>\n",
       "      <td>-1</td>\n",
       "      <td>8</td>\n",
       "      <td>KOSE</td>\n",
       "      <td>2</td>\n",
       "      <td>432</td>\n",
       "      <td>864</td>\n",
       "      <td>0_-1</td>\n",
       "    </tr>\n",
       "    <tr>\n",
       "      <th>2</th>\n",
       "      <td>5503419373</td>\n",
       "      <td>0</td>\n",
       "      <td>-1</td>\n",
       "      <td>2</td>\n",
       "      <td>KOSE</td>\n",
       "      <td>1</td>\n",
       "      <td>288</td>\n",
       "      <td>288</td>\n",
       "      <td>0_-1</td>\n",
       "    </tr>\n",
       "    <tr>\n",
       "      <th>3</th>\n",
       "      <td>5506618770</td>\n",
       "      <td>0</td>\n",
       "      <td>-1</td>\n",
       "      <td>13</td>\n",
       "      <td>ANGFA</td>\n",
       "      <td>1</td>\n",
       "      <td>620</td>\n",
       "      <td>620</td>\n",
       "      <td>0_-1</td>\n",
       "    </tr>\n",
       "    <tr>\n",
       "      <th>4</th>\n",
       "      <td>5501147671</td>\n",
       "      <td>0</td>\n",
       "      <td>-1</td>\n",
       "      <td>2</td>\n",
       "      <td>KOSE</td>\n",
       "      <td>2</td>\n",
       "      <td>288</td>\n",
       "      <td>576</td>\n",
       "      <td>0_-1</td>\n",
       "    </tr>\n",
       "  </tbody>\n",
       "</table>\n",
       "</div>"
      ],
      "text/plain": [
       "    member_id age gender  category  brand  cnt  per_price  score group\n",
       "0  5105005930   0     -1        10  ANGFA    1        558    558  0_-1\n",
       "1  5503419373   0     -1         8   KOSE    2        432    864  0_-1\n",
       "2  5503419373   0     -1         2   KOSE    1        288    288  0_-1\n",
       "3  5506618770   0     -1        13  ANGFA    1        620    620  0_-1\n",
       "4  5501147671   0     -1         2   KOSE    2        288    576  0_-1"
      ]
     },
     "execution_count": 6,
     "metadata": {},
     "output_type": "execute_result"
    }
   ],
   "source": [
    "df_group['age'] = df_group['age'].astype(str)\n",
    "df_group['gender'] = df_group['gender'].astype(str)\n",
    "\n",
    "df_group['group'] = df_group['age'] + '_' + df_group['gender']\n",
    "\n",
    "df_group.head()"
   ]
  },
  {
   "cell_type": "markdown",
   "metadata": {},
   "source": [
    "## 1. group & brand"
   ]
  },
  {
   "cell_type": "code",
   "execution_count": 7,
   "metadata": {},
   "outputs": [
    {
     "name": "stdout",
     "output_type": "stream",
     "text": [
      "(42, 3)\n"
     ]
    },
    {
     "data": {
      "text/html": [
       "<div>\n",
       "<style scoped>\n",
       "    .dataframe tbody tr th:only-of-type {\n",
       "        vertical-align: middle;\n",
       "    }\n",
       "\n",
       "    .dataframe tbody tr th {\n",
       "        vertical-align: top;\n",
       "    }\n",
       "\n",
       "    .dataframe thead th {\n",
       "        text-align: right;\n",
       "    }\n",
       "</style>\n",
       "<table border=\"1\" class=\"dataframe\">\n",
       "  <thead>\n",
       "    <tr style=\"text-align: right;\">\n",
       "      <th></th>\n",
       "      <th>group</th>\n",
       "      <th>brand</th>\n",
       "      <th>score</th>\n",
       "    </tr>\n",
       "  </thead>\n",
       "  <tbody>\n",
       "    <tr>\n",
       "      <th>0</th>\n",
       "      <td>0_-1</td>\n",
       "      <td>ANGFA</td>\n",
       "      <td>126417</td>\n",
       "    </tr>\n",
       "    <tr>\n",
       "      <th>1</th>\n",
       "      <td>0_-1</td>\n",
       "      <td>BEAUTYMAKER</td>\n",
       "      <td>4764</td>\n",
       "    </tr>\n",
       "    <tr>\n",
       "      <th>2</th>\n",
       "      <td>0_-1</td>\n",
       "      <td>CureQ</td>\n",
       "      <td>8038</td>\n",
       "    </tr>\n",
       "    <tr>\n",
       "      <th>3</th>\n",
       "      <td>0_-1</td>\n",
       "      <td>DASODA</td>\n",
       "      <td>1480</td>\n",
       "    </tr>\n",
       "    <tr>\n",
       "      <th>4</th>\n",
       "      <td>0_-1</td>\n",
       "      <td>FLOWFUSHI</td>\n",
       "      <td>2715</td>\n",
       "    </tr>\n",
       "  </tbody>\n",
       "</table>\n",
       "</div>"
      ],
      "text/plain": [
       "  group        brand   score\n",
       "0  0_-1        ANGFA  126417\n",
       "1  0_-1  BEAUTYMAKER    4764\n",
       "2  0_-1        CureQ    8038\n",
       "3  0_-1       DASODA    1480\n",
       "4  0_-1   FLOWFUSHI     2715"
      ]
     },
     "execution_count": 7,
     "metadata": {},
     "output_type": "execute_result"
    }
   ],
   "source": [
    "df_group_brand = df_group[['group', 'brand', 'score']]\n",
    "df_group_brand = df_group_brand.groupby(['group', 'brand']).score.sum()\n",
    "df_group_brand = df_group_brand.reset_index(inplace=False)\n",
    "print(df_group_brand.shape)\n",
    "df_group_brand.head()"
   ]
  },
  {
   "cell_type": "code",
   "execution_count": 8,
   "metadata": {
    "scrolled": true
   },
   "outputs": [
    {
     "data": {
      "text/html": [
       "<div>\n",
       "<style scoped>\n",
       "    .dataframe tbody tr th:only-of-type {\n",
       "        vertical-align: middle;\n",
       "    }\n",
       "\n",
       "    .dataframe tbody tr th {\n",
       "        vertical-align: top;\n",
       "    }\n",
       "\n",
       "    .dataframe thead th {\n",
       "        text-align: right;\n",
       "    }\n",
       "</style>\n",
       "<table border=\"1\" class=\"dataframe\">\n",
       "  <thead>\n",
       "    <tr style=\"text-align: right;\">\n",
       "      <th></th>\n",
       "      <th>group</th>\n",
       "      <th>brand</th>\n",
       "      <th>score</th>\n",
       "    </tr>\n",
       "  </thead>\n",
       "  <tbody>\n",
       "    <tr>\n",
       "      <th>40</th>\n",
       "      <td>5_0</td>\n",
       "      <td>KOSE</td>\n",
       "      <td>6399</td>\n",
       "    </tr>\n",
       "    <tr>\n",
       "      <th>37</th>\n",
       "      <td>5_0</td>\n",
       "      <td>ANGFA</td>\n",
       "      <td>4630</td>\n",
       "    </tr>\n",
       "    <tr>\n",
       "      <th>38</th>\n",
       "      <td>5_0</td>\n",
       "      <td>BEAUTYMAKER</td>\n",
       "      <td>1159</td>\n",
       "    </tr>\n",
       "    <tr>\n",
       "      <th>31</th>\n",
       "      <td>4_0</td>\n",
       "      <td>ANGFA</td>\n",
       "      <td>6950</td>\n",
       "    </tr>\n",
       "    <tr>\n",
       "      <th>34</th>\n",
       "      <td>4_0</td>\n",
       "      <td>KOSE</td>\n",
       "      <td>1998</td>\n",
       "    </tr>\n",
       "  </tbody>\n",
       "</table>\n",
       "</div>"
      ],
      "text/plain": [
       "   group        brand  score\n",
       "40   5_0         KOSE   6399\n",
       "37   5_0        ANGFA   4630\n",
       "38   5_0  BEAUTYMAKER   1159\n",
       "31   4_0        ANGFA   6950\n",
       "34   4_0         KOSE   1998"
      ]
     },
     "execution_count": 8,
     "metadata": {},
     "output_type": "execute_result"
    }
   ],
   "source": [
    "# top3 to recommand for group\n",
    "\n",
    "df_group_brand_res = srs.top_recommand(df_group_brand, 'group', 'score', 3, groupby_title='group')\n",
    "df_group_brand_res.head()"
   ]
  },
  {
   "cell_type": "code",
   "execution_count": 9,
   "metadata": {},
   "outputs": [],
   "source": [
    "# to csv \n",
    "df_group_brand_res.to_csv(f'{path[1]}{res_file[0]}.csv', encoding='utf8', index=False)"
   ]
  },
  {
   "cell_type": "markdown",
   "metadata": {},
   "source": [
    "## 2. group & category"
   ]
  },
  {
   "cell_type": "code",
   "execution_count": 10,
   "metadata": {},
   "outputs": [
    {
     "name": "stdout",
     "output_type": "stream",
     "text": [
      "(66, 3)\n"
     ]
    },
    {
     "data": {
      "text/html": [
       "<div>\n",
       "<style scoped>\n",
       "    .dataframe tbody tr th:only-of-type {\n",
       "        vertical-align: middle;\n",
       "    }\n",
       "\n",
       "    .dataframe tbody tr th {\n",
       "        vertical-align: top;\n",
       "    }\n",
       "\n",
       "    .dataframe thead th {\n",
       "        text-align: right;\n",
       "    }\n",
       "</style>\n",
       "<table border=\"1\" class=\"dataframe\">\n",
       "  <thead>\n",
       "    <tr style=\"text-align: right;\">\n",
       "      <th></th>\n",
       "      <th>group</th>\n",
       "      <th>category</th>\n",
       "      <th>score</th>\n",
       "    </tr>\n",
       "  </thead>\n",
       "  <tbody>\n",
       "    <tr>\n",
       "      <th>0</th>\n",
       "      <td>0_-1</td>\n",
       "      <td>1</td>\n",
       "      <td>6989</td>\n",
       "    </tr>\n",
       "    <tr>\n",
       "      <th>1</th>\n",
       "      <td>0_-1</td>\n",
       "      <td>2</td>\n",
       "      <td>5066</td>\n",
       "    </tr>\n",
       "    <tr>\n",
       "      <th>2</th>\n",
       "      <td>0_-1</td>\n",
       "      <td>3</td>\n",
       "      <td>390</td>\n",
       "    </tr>\n",
       "    <tr>\n",
       "      <th>3</th>\n",
       "      <td>0_-1</td>\n",
       "      <td>4</td>\n",
       "      <td>2202</td>\n",
       "    </tr>\n",
       "    <tr>\n",
       "      <th>4</th>\n",
       "      <td>0_-1</td>\n",
       "      <td>5</td>\n",
       "      <td>2310</td>\n",
       "    </tr>\n",
       "  </tbody>\n",
       "</table>\n",
       "</div>"
      ],
      "text/plain": [
       "  group  category  score\n",
       "0  0_-1         1   6989\n",
       "1  0_-1         2   5066\n",
       "2  0_-1         3    390\n",
       "3  0_-1         4   2202\n",
       "4  0_-1         5   2310"
      ]
     },
     "execution_count": 10,
     "metadata": {},
     "output_type": "execute_result"
    }
   ],
   "source": [
    "df_group_cat = df_group[['group', 'category', 'score']]\n",
    "df_group_cat = df_group_cat.groupby(['group', 'category']).score.sum()\n",
    "df_group_cat = df_group_cat.reset_index(inplace=False)\n",
    "print(df_group_cat.shape)\n",
    "df_group_cat.head()"
   ]
  },
  {
   "cell_type": "code",
   "execution_count": 11,
   "metadata": {},
   "outputs": [
    {
     "data": {
      "text/html": [
       "<div>\n",
       "<style scoped>\n",
       "    .dataframe tbody tr th:only-of-type {\n",
       "        vertical-align: middle;\n",
       "    }\n",
       "\n",
       "    .dataframe tbody tr th {\n",
       "        vertical-align: top;\n",
       "    }\n",
       "\n",
       "    .dataframe thead th {\n",
       "        text-align: right;\n",
       "    }\n",
       "</style>\n",
       "<table border=\"1\" class=\"dataframe\">\n",
       "  <thead>\n",
       "    <tr style=\"text-align: right;\">\n",
       "      <th></th>\n",
       "      <th>group</th>\n",
       "      <th>category</th>\n",
       "      <th>score</th>\n",
       "    </tr>\n",
       "  </thead>\n",
       "  <tbody>\n",
       "    <tr>\n",
       "      <th>60</th>\n",
       "      <td>5_0</td>\n",
       "      <td>洗髮</td>\n",
       "      <td>3570</td>\n",
       "    </tr>\n",
       "    <tr>\n",
       "      <th>59</th>\n",
       "      <td>5_0</td>\n",
       "      <td>保濕</td>\n",
       "      <td>3039</td>\n",
       "    </tr>\n",
       "    <tr>\n",
       "      <th>63</th>\n",
       "      <td>5_0</td>\n",
       "      <td>美白</td>\n",
       "      <td>1884</td>\n",
       "    </tr>\n",
       "    <tr>\n",
       "      <th>52</th>\n",
       "      <td>4_0</td>\n",
       "      <td>洗髮</td>\n",
       "      <td>3570</td>\n",
       "    </tr>\n",
       "    <tr>\n",
       "      <th>50</th>\n",
       "      <td>4_0</td>\n",
       "      <td>保濕</td>\n",
       "      <td>2879</td>\n",
       "    </tr>\n",
       "  </tbody>\n",
       "</table>\n",
       "</div>"
      ],
      "text/plain": [
       "   group category  score\n",
       "60   5_0       洗髮   3570\n",
       "59   5_0       保濕   3039\n",
       "63   5_0       美白   1884\n",
       "52   4_0       洗髮   3570\n",
       "50   4_0       保濕   2879"
      ]
     },
     "execution_count": 11,
     "metadata": {},
     "output_type": "execute_result"
    }
   ],
   "source": [
    "# top3 to recommand for group\n",
    "\n",
    "df_group_cat_res = srs.top_recommand(df_group_cat, 'group', 'score', 3, groupby_title='group')\n",
    "\n",
    "df_group_cat_res['category'] = df_group_cat_res['category'].map(cat_map)\n",
    "df_group_cat_res.head()"
   ]
  },
  {
   "cell_type": "code",
   "execution_count": 12,
   "metadata": {},
   "outputs": [],
   "source": [
    "# to csv \n",
    "df_group_cat_res.to_csv(f'{path[1]}{res_file[1]}.csv', encoding='utf8', index=False)"
   ]
  },
  {
   "cell_type": "markdown",
   "metadata": {},
   "source": [
    "## 3. group & category+brand "
   ]
  },
  {
   "cell_type": "code",
   "execution_count": 13,
   "metadata": {
    "scrolled": true
   },
   "outputs": [
    {
     "data": {
      "text/html": [
       "<div>\n",
       "<style scoped>\n",
       "    .dataframe tbody tr th:only-of-type {\n",
       "        vertical-align: middle;\n",
       "    }\n",
       "\n",
       "    .dataframe tbody tr th {\n",
       "        vertical-align: top;\n",
       "    }\n",
       "\n",
       "    .dataframe thead th {\n",
       "        text-align: right;\n",
       "    }\n",
       "</style>\n",
       "<table border=\"1\" class=\"dataframe\">\n",
       "  <thead>\n",
       "    <tr style=\"text-align: right;\">\n",
       "      <th></th>\n",
       "      <th>group</th>\n",
       "      <th>item</th>\n",
       "      <th>score</th>\n",
       "    </tr>\n",
       "  </thead>\n",
       "  <tbody>\n",
       "    <tr>\n",
       "      <th>0</th>\n",
       "      <td>0_-1</td>\n",
       "      <td>1CureQ</td>\n",
       "      <td>6989</td>\n",
       "    </tr>\n",
       "    <tr>\n",
       "      <th>1</th>\n",
       "      <td>0_-1</td>\n",
       "      <td>2KOSE</td>\n",
       "      <td>5066</td>\n",
       "    </tr>\n",
       "    <tr>\n",
       "      <th>2</th>\n",
       "      <td>0_-1</td>\n",
       "      <td>3BEAUTYMAKER</td>\n",
       "      <td>0</td>\n",
       "    </tr>\n",
       "    <tr>\n",
       "      <th>3</th>\n",
       "      <td>0_-1</td>\n",
       "      <td>3LSY</td>\n",
       "      <td>390</td>\n",
       "    </tr>\n",
       "    <tr>\n",
       "      <th>4</th>\n",
       "      <td>0_-1</td>\n",
       "      <td>3others</td>\n",
       "      <td>0</td>\n",
       "    </tr>\n",
       "  </tbody>\n",
       "</table>\n",
       "</div>"
      ],
      "text/plain": [
       "  group          item  score\n",
       "0  0_-1        1CureQ   6989\n",
       "1  0_-1         2KOSE   5066\n",
       "2  0_-1  3BEAUTYMAKER      0\n",
       "3  0_-1          3LSY    390\n",
       "4  0_-1       3others      0"
      ]
     },
     "execution_count": 13,
     "metadata": {},
     "output_type": "execute_result"
    }
   ],
   "source": [
    "# count each member category pair purchase times\n",
    "df_cb_rating = df_group[['group','category','brand','score']].groupby(['group','category','brand'])['score'].sum()\n",
    "\n",
    "df_cb_rating = df_cb_rating.reset_index(inplace=False, level=['group','category','brand'])  \n",
    "# print(df_cb_rating.shape)\n",
    "df_cb_rating.category = df_cb_rating.category.astype(str)\n",
    "\n",
    "df_cb_rating['item'] = df_cb_rating.category + df_cb_rating.brand\n",
    "\n",
    "df_cb_rating = df_cb_rating.reindex(columns=['group', 'item','category', 'brand', 'score'])\n",
    "\n",
    "\n",
    "# This table is used to record the new id's brand and category \n",
    "cat_brand_table = df_cb_rating.drop(['group', 'score'],axis=1)\n",
    "cat_brand_table.drop_duplicates()\n",
    "\n",
    "# This table is used to do recommand\n",
    "df_cb_rating_new = df_cb_rating.drop(['category','brand'], axis=1)\n",
    "\n",
    "df_cb_rating_new.head()"
   ]
  },
  {
   "cell_type": "code",
   "execution_count": 14,
   "metadata": {},
   "outputs": [
    {
     "data": {
      "text/html": [
       "<div>\n",
       "<style scoped>\n",
       "    .dataframe tbody tr th:only-of-type {\n",
       "        vertical-align: middle;\n",
       "    }\n",
       "\n",
       "    .dataframe tbody tr th {\n",
       "        vertical-align: top;\n",
       "    }\n",
       "\n",
       "    .dataframe thead th {\n",
       "        text-align: right;\n",
       "    }\n",
       "</style>\n",
       "<table border=\"1\" class=\"dataframe\">\n",
       "  <thead>\n",
       "    <tr style=\"text-align: right;\">\n",
       "      <th></th>\n",
       "      <th>group</th>\n",
       "      <th>item</th>\n",
       "      <th>score</th>\n",
       "    </tr>\n",
       "  </thead>\n",
       "  <tbody>\n",
       "    <tr>\n",
       "      <th>91</th>\n",
       "      <td>5_0</td>\n",
       "      <td>8ANGFA</td>\n",
       "      <td>3570</td>\n",
       "    </tr>\n",
       "    <tr>\n",
       "      <th>90</th>\n",
       "      <td>5_0</td>\n",
       "      <td>6KOSE</td>\n",
       "      <td>1979</td>\n",
       "    </tr>\n",
       "    <tr>\n",
       "      <th>94</th>\n",
       "      <td>5_0</td>\n",
       "      <td>11KOSE</td>\n",
       "      <td>1884</td>\n",
       "    </tr>\n",
       "    <tr>\n",
       "      <th>81</th>\n",
       "      <td>4_0</td>\n",
       "      <td>8ANGFA</td>\n",
       "      <td>3570</td>\n",
       "    </tr>\n",
       "    <tr>\n",
       "      <th>82</th>\n",
       "      <td>4_0</td>\n",
       "      <td>13ANGFA</td>\n",
       "      <td>1700</td>\n",
       "    </tr>\n",
       "  </tbody>\n",
       "</table>\n",
       "</div>"
      ],
      "text/plain": [
       "   group     item  score\n",
       "91   5_0   8ANGFA   3570\n",
       "90   5_0    6KOSE   1979\n",
       "94   5_0   11KOSE   1884\n",
       "81   4_0   8ANGFA   3570\n",
       "82   4_0  13ANGFA   1700"
      ]
     },
     "execution_count": 14,
     "metadata": {},
     "output_type": "execute_result"
    }
   ],
   "source": [
    "# top3 to recommand for group\n",
    "df_cb_res = srs.top_recommand(df_cb_rating_new, 'group', 'score', 3, groupby_title='group')\n",
    "df_cb_res.head()"
   ]
  },
  {
   "cell_type": "code",
   "execution_count": 15,
   "metadata": {
    "scrolled": true
   },
   "outputs": [
    {
     "data": {
      "text/html": [
       "<div>\n",
       "<style scoped>\n",
       "    .dataframe tbody tr th:only-of-type {\n",
       "        vertical-align: middle;\n",
       "    }\n",
       "\n",
       "    .dataframe tbody tr th {\n",
       "        vertical-align: top;\n",
       "    }\n",
       "\n",
       "    .dataframe thead th {\n",
       "        text-align: right;\n",
       "    }\n",
       "</style>\n",
       "<table border=\"1\" class=\"dataframe\">\n",
       "  <thead>\n",
       "    <tr style=\"text-align: right;\">\n",
       "      <th></th>\n",
       "      <th>group</th>\n",
       "      <th>score</th>\n",
       "      <th>category</th>\n",
       "      <th>brand</th>\n",
       "    </tr>\n",
       "  </thead>\n",
       "  <tbody>\n",
       "    <tr>\n",
       "      <th>0</th>\n",
       "      <td>5_0</td>\n",
       "      <td>3570</td>\n",
       "      <td>洗髮</td>\n",
       "      <td>ANGFA</td>\n",
       "    </tr>\n",
       "    <tr>\n",
       "      <th>6</th>\n",
       "      <td>5_0</td>\n",
       "      <td>1979</td>\n",
       "      <td>保濕</td>\n",
       "      <td>KOSE</td>\n",
       "    </tr>\n",
       "    <tr>\n",
       "      <th>12</th>\n",
       "      <td>5_0</td>\n",
       "      <td>1884</td>\n",
       "      <td>美白</td>\n",
       "      <td>KOSE</td>\n",
       "    </tr>\n",
       "    <tr>\n",
       "      <th>15</th>\n",
       "      <td>4_0</td>\n",
       "      <td>3570</td>\n",
       "      <td>洗髮</td>\n",
       "      <td>ANGFA</td>\n",
       "    </tr>\n",
       "    <tr>\n",
       "      <th>21</th>\n",
       "      <td>4_0</td>\n",
       "      <td>1700</td>\n",
       "      <td>睫毛</td>\n",
       "      <td>ANGFA</td>\n",
       "    </tr>\n",
       "  </tbody>\n",
       "</table>\n",
       "</div>"
      ],
      "text/plain": [
       "   group  score category  brand\n",
       "0    5_0   3570       洗髮  ANGFA\n",
       "6    5_0   1979       保濕   KOSE\n",
       "12   5_0   1884       美白   KOSE\n",
       "15   4_0   3570       洗髮  ANGFA\n",
       "21   4_0   1700       睫毛  ANGFA"
      ]
     },
     "execution_count": 15,
     "metadata": {},
     "output_type": "execute_result"
    }
   ],
   "source": [
    "# reorganize data\n",
    "\n",
    "df_cb_res = df_cb_res.merge(cat_brand_table, how='left', on='item').drop_duplicates()\n",
    "df_cb_res.drop(columns=['item'], inplace=True)\n",
    "\n",
    "df_cb_res['category'] = df_cb_res['category'].astype(int)\n",
    "df_cb_res['category'] = df_cb_res['category'].map(cat_map)\n",
    "\n",
    "df_cb_res.head()"
   ]
  },
  {
   "cell_type": "code",
   "execution_count": 16,
   "metadata": {},
   "outputs": [],
   "source": [
    "# to csv \n",
    "df_cb_res.to_csv(f'{path[1]}{res_file[2]}.csv', encoding='utf8', index=False)"
   ]
  },
  {
   "cell_type": "markdown",
   "metadata": {},
   "source": [
    "---\n",
    "# Example: Insert test"
   ]
  },
  {
   "cell_type": "code",
   "execution_count": 17,
   "metadata": {},
   "outputs": [],
   "source": [
    "# Load data \n",
    "path = ['data/', 'result/']\n",
    "file = ['client', 'all_data']\n",
    "res_file = ['group_top_n_brand', 'group_top_n_category', 'group_top_n_pair']\n",
    "\n",
    "df_group_brand_res = pd.read_csv(f'{path[1]}{res_file[0]}.csv', encoding='utf8')\n",
    "df_group_cat_res = pd.read_csv(f'{path[1]}{res_file[1]}.csv', encoding='utf8')\n",
    "df_cb_res = pd.read_csv(f'{path[1]}{res_file[2]}.csv', encoding='utf8')"
   ]
  },
  {
   "cell_type": "code",
   "execution_count": 18,
   "metadata": {},
   "outputs": [],
   "source": [
    "# transformate data\n",
    "\n",
    "def insert_trans(insert_data, bins):\n",
    "    result=['']\n",
    "    for i in range(len(bins)):\n",
    "        if insert_data[0] in range(bins[i], bins[i+1]):\n",
    "            result[0] = i\n",
    "            break\n",
    "\n",
    "    if insert_data[1] == 'female': result.append(0)\n",
    "    elif insert_data[1] == 'male': result.append(1)\n",
    "    else: result.append(-1)\n",
    "\n",
    "    group_id = str(result[0])+'_'+str(result[1])\n",
    "    \n",
    "    return group_id"
   ]
  },
  {
   "cell_type": "code",
   "execution_count": 19,
   "metadata": {},
   "outputs": [],
   "source": [
    "# get data\n",
    "\n",
    "def tar_recommand(df_res, user_title, tar_user, tar_title_list):\n",
    "    '''\n",
    "    ==============================================\n",
    "    \n",
    "    ==============================================\n",
    "    >* df_res: the dataframe with users and top n recommand target\n",
    "    >* user_title: the name of column where user in \n",
    "    >* tar_user: the target user \n",
    "    >* tar_title_list: list of target items\n",
    "    '''\n",
    "    return df_res[df_res[user_title]==tar_user][tar_title_list]\n"
   ]
  },
  {
   "cell_type": "code",
   "execution_count": 20,
   "metadata": {},
   "outputs": [
    {
     "data": {
      "text/plain": [
       "'0_0'"
      ]
     },
     "execution_count": 20,
     "metadata": {},
     "output_type": "execute_result"
    }
   ],
   "source": [
    "# transformate data\n",
    "\n",
    "A = (15, 'female') \n",
    "bins = [0, 19, 22, 23, 32, 40, 100]\n",
    "\n",
    "group_id = insert_trans(A, bins)\n",
    "group_id"
   ]
  },
  {
   "cell_type": "code",
   "execution_count": 21,
   "metadata": {},
   "outputs": [
    {
     "data": {
      "text/html": [
       "<div>\n",
       "<style scoped>\n",
       "    .dataframe tbody tr th:only-of-type {\n",
       "        vertical-align: middle;\n",
       "    }\n",
       "\n",
       "    .dataframe tbody tr th {\n",
       "        vertical-align: top;\n",
       "    }\n",
       "\n",
       "    .dataframe thead th {\n",
       "        text-align: right;\n",
       "    }\n",
       "</style>\n",
       "<table border=\"1\" class=\"dataframe\">\n",
       "  <thead>\n",
       "    <tr style=\"text-align: right;\">\n",
       "      <th></th>\n",
       "      <th>brand</th>\n",
       "    </tr>\n",
       "  </thead>\n",
       "  <tbody>\n",
       "    <tr>\n",
       "      <th>15</th>\n",
       "      <td>KOSE</td>\n",
       "    </tr>\n",
       "    <tr>\n",
       "      <th>16</th>\n",
       "      <td>ANGFA</td>\n",
       "    </tr>\n",
       "    <tr>\n",
       "      <th>17</th>\n",
       "      <td>CureQ</td>\n",
       "    </tr>\n",
       "  </tbody>\n",
       "</table>\n",
       "</div>"
      ],
      "text/plain": [
       "    brand\n",
       "15   KOSE\n",
       "16  ANGFA\n",
       "17  CureQ"
      ]
     },
     "execution_count": 21,
     "metadata": {},
     "output_type": "execute_result"
    }
   ],
   "source": [
    "# get data: brand\n",
    "tar_brand = tar_recommand(df_group_brand_res, 'group', group_id, ['brand'])\n",
    "tar_brand"
   ]
  },
  {
   "cell_type": "code",
   "execution_count": 22,
   "metadata": {},
   "outputs": [
    {
     "data": {
      "text/plain": [
       "'KOSE'"
      ]
     },
     "execution_count": 22,
     "metadata": {},
     "output_type": "execute_result"
    }
   ],
   "source": [
    "tar_brand.brand[tar_brand.index[0]]"
   ]
  },
  {
   "cell_type": "code",
   "execution_count": 23,
   "metadata": {},
   "outputs": [
    {
     "data": {
      "text/html": [
       "<div>\n",
       "<style scoped>\n",
       "    .dataframe tbody tr th:only-of-type {\n",
       "        vertical-align: middle;\n",
       "    }\n",
       "\n",
       "    .dataframe tbody tr th {\n",
       "        vertical-align: top;\n",
       "    }\n",
       "\n",
       "    .dataframe thead th {\n",
       "        text-align: right;\n",
       "    }\n",
       "</style>\n",
       "<table border=\"1\" class=\"dataframe\">\n",
       "  <thead>\n",
       "    <tr style=\"text-align: right;\">\n",
       "      <th></th>\n",
       "      <th>category</th>\n",
       "    </tr>\n",
       "  </thead>\n",
       "  <tbody>\n",
       "    <tr>\n",
       "      <th>15</th>\n",
       "      <td>保濕</td>\n",
       "    </tr>\n",
       "    <tr>\n",
       "      <th>16</th>\n",
       "      <td>洗髮</td>\n",
       "    </tr>\n",
       "    <tr>\n",
       "      <th>17</th>\n",
       "      <td>去角質</td>\n",
       "    </tr>\n",
       "  </tbody>\n",
       "</table>\n",
       "</div>"
      ],
      "text/plain": [
       "   category\n",
       "15       保濕\n",
       "16       洗髮\n",
       "17      去角質"
      ]
     },
     "execution_count": 23,
     "metadata": {},
     "output_type": "execute_result"
    }
   ],
   "source": [
    "# get data: category\n",
    "tar_recommand(df_group_cat_res, 'group', group_id, ['category'])"
   ]
  },
  {
   "cell_type": "code",
   "execution_count": 24,
   "metadata": {},
   "outputs": [
    {
     "data": {
      "text/html": [
       "<div>\n",
       "<style scoped>\n",
       "    .dataframe tbody tr th:only-of-type {\n",
       "        vertical-align: middle;\n",
       "    }\n",
       "\n",
       "    .dataframe tbody tr th {\n",
       "        vertical-align: top;\n",
       "    }\n",
       "\n",
       "    .dataframe thead th {\n",
       "        text-align: right;\n",
       "    }\n",
       "</style>\n",
       "<table border=\"1\" class=\"dataframe\">\n",
       "  <thead>\n",
       "    <tr style=\"text-align: right;\">\n",
       "      <th></th>\n",
       "      <th>category</th>\n",
       "      <th>brand</th>\n",
       "    </tr>\n",
       "  </thead>\n",
       "  <tbody>\n",
       "    <tr>\n",
       "      <th>15</th>\n",
       "      <td>NaN</td>\n",
       "      <td>KOSE</td>\n",
       "    </tr>\n",
       "    <tr>\n",
       "      <th>16</th>\n",
       "      <td>NaN</td>\n",
       "      <td>ANGFA</td>\n",
       "    </tr>\n",
       "    <tr>\n",
       "      <th>17</th>\n",
       "      <td>NaN</td>\n",
       "      <td>ANGFA</td>\n",
       "    </tr>\n",
       "  </tbody>\n",
       "</table>\n",
       "</div>"
      ],
      "text/plain": [
       "   category  brand\n",
       "15      NaN   KOSE\n",
       "16      NaN  ANGFA\n",
       "17      NaN  ANGFA"
      ]
     },
     "execution_count": 24,
     "metadata": {},
     "output_type": "execute_result"
    }
   ],
   "source": [
    "# get data: category & brand pair\n",
    "# group_cb['category'] = group_cb['category'].astype(int)\n",
    "group_cb = tar_recommand(df_cb_res, 'group', group_id, ['category', 'brand'])\n",
    "group_cb['category'] = group_cb['category'].map(cat_map)\n",
    "group_cb"
   ]
  },
  {
   "cell_type": "markdown",
   "metadata": {},
   "source": [
    "---\n",
    "# Top n to recommand"
   ]
  },
  {
   "cell_type": "code",
   "execution_count": 25,
   "metadata": {},
   "outputs": [
    {
     "name": "stderr",
     "output_type": "stream",
     "text": [
      "C:\\Users\\ASUS\\AppData\\Local\\Programs\\Python\\Python36\\lib\\site-packages\\ipykernel_launcher.py:2: SettingWithCopyWarning: \n",
      "A value is trying to be set on a copy of a slice from a DataFrame.\n",
      "Try using .loc[row_indexer,col_indexer] = value instead\n",
      "\n",
      "See the caveats in the documentation: http://pandas.pydata.org/pandas-docs/stable/indexing.html#indexing-view-versus-copy\n",
      "  \n"
     ]
    },
    {
     "data": {
      "text/html": [
       "<div>\n",
       "<style scoped>\n",
       "    .dataframe tbody tr th:only-of-type {\n",
       "        vertical-align: middle;\n",
       "    }\n",
       "\n",
       "    .dataframe tbody tr th {\n",
       "        vertical-align: top;\n",
       "    }\n",
       "\n",
       "    .dataframe thead th {\n",
       "        text-align: right;\n",
       "    }\n",
       "</style>\n",
       "<table border=\"1\" class=\"dataframe\">\n",
       "  <thead>\n",
       "    <tr style=\"text-align: right;\">\n",
       "      <th></th>\n",
       "      <th>category</th>\n",
       "      <th>brand</th>\n",
       "      <th>cnt</th>\n",
       "      <th>per_price</th>\n",
       "      <th>score</th>\n",
       "    </tr>\n",
       "  </thead>\n",
       "  <tbody>\n",
       "    <tr>\n",
       "      <th>0</th>\n",
       "      <td>10</td>\n",
       "      <td>ANGFA</td>\n",
       "      <td>1</td>\n",
       "      <td>558</td>\n",
       "      <td>558</td>\n",
       "    </tr>\n",
       "    <tr>\n",
       "      <th>1</th>\n",
       "      <td>8</td>\n",
       "      <td>KOSE</td>\n",
       "      <td>2</td>\n",
       "      <td>432</td>\n",
       "      <td>864</td>\n",
       "    </tr>\n",
       "    <tr>\n",
       "      <th>2</th>\n",
       "      <td>2</td>\n",
       "      <td>KOSE</td>\n",
       "      <td>1</td>\n",
       "      <td>288</td>\n",
       "      <td>288</td>\n",
       "    </tr>\n",
       "    <tr>\n",
       "      <th>3</th>\n",
       "      <td>13</td>\n",
       "      <td>ANGFA</td>\n",
       "      <td>1</td>\n",
       "      <td>620</td>\n",
       "      <td>620</td>\n",
       "    </tr>\n",
       "    <tr>\n",
       "      <th>4</th>\n",
       "      <td>2</td>\n",
       "      <td>KOSE</td>\n",
       "      <td>2</td>\n",
       "      <td>288</td>\n",
       "      <td>576</td>\n",
       "    </tr>\n",
       "  </tbody>\n",
       "</table>\n",
       "</div>"
      ],
      "text/plain": [
       "   category  brand  cnt  per_price  score\n",
       "0        10  ANGFA    1        558    558\n",
       "1         8   KOSE    2        432    864\n",
       "2         2   KOSE    1        288    288\n",
       "3        13  ANGFA    1        620    620\n",
       "4         2   KOSE    2        288    576"
      ]
     },
     "execution_count": 25,
     "metadata": {},
     "output_type": "execute_result"
    }
   ],
   "source": [
    "top_tab = df_all[['category', 'brand', 'cnt', 'per_price']]\n",
    "top_tab['score'] = top_tab['cnt']*top_tab['per_price']\n",
    "\n",
    "top_tab.head()"
   ]
  },
  {
   "cell_type": "markdown",
   "metadata": {},
   "source": [
    "## 1. Top n brand "
   ]
  },
  {
   "cell_type": "code",
   "execution_count": 26,
   "metadata": {},
   "outputs": [
    {
     "data": {
      "text/plain": [
       "brand\n",
       "ANGFA            175482\n",
       "KOSE             116627\n",
       "Miche Bloomin     13856\n",
       "Name: score, dtype: int64"
      ]
     },
     "execution_count": 26,
     "metadata": {},
     "output_type": "execute_result"
    }
   ],
   "source": [
    "top_n_brand = top_tab[['brand', 'score']].groupby('brand')['score'].sum().sort_values(ascending=False)\n",
    "top_n_brand.head(3)"
   ]
  },
  {
   "cell_type": "code",
   "execution_count": 27,
   "metadata": {},
   "outputs": [],
   "source": [
    "top_n_brand.to_csv(f'{path[1]}{top_file[0]}.csv', encoding='utf8')"
   ]
  },
  {
   "cell_type": "markdown",
   "metadata": {},
   "source": [
    "## 2. top n category"
   ]
  },
  {
   "cell_type": "code",
   "execution_count": 28,
   "metadata": {},
   "outputs": [
    {
     "data": {
      "text/plain": [
       "category\n",
       "保濕    133322\n",
       "洗髮    105526\n",
       "睫毛     48242\n",
       "Name: score, dtype: int64"
      ]
     },
     "execution_count": 28,
     "metadata": {},
     "output_type": "execute_result"
    }
   ],
   "source": [
    "top_n_category = top_tab[['category', 'score']].groupby('category')['score'].sum().sort_values(ascending=False)\n",
    "\n",
    "top_n_category.index= top_n_category.index.map(cat_map)\n",
    "\n",
    "top_n_category.head(3)"
   ]
  },
  {
   "cell_type": "code",
   "execution_count": 29,
   "metadata": {},
   "outputs": [],
   "source": [
    "pd.DataFrame(top_n_category).to_csv(f'{path[1]}{top_file[1]}.csv', encoding='utf8')"
   ]
  },
  {
   "cell_type": "markdown",
   "metadata": {},
   "source": [
    "## 3. top n category & brand pair"
   ]
  },
  {
   "cell_type": "code",
   "execution_count": 30,
   "metadata": {
    "scrolled": true
   },
   "outputs": [
    {
     "data": {
      "text/html": [
       "<div>\n",
       "<style scoped>\n",
       "    .dataframe tbody tr th:only-of-type {\n",
       "        vertical-align: middle;\n",
       "    }\n",
       "\n",
       "    .dataframe tbody tr th {\n",
       "        vertical-align: top;\n",
       "    }\n",
       "\n",
       "    .dataframe thead th {\n",
       "        text-align: right;\n",
       "    }\n",
       "</style>\n",
       "<table border=\"1\" class=\"dataframe\">\n",
       "  <thead>\n",
       "    <tr style=\"text-align: right;\">\n",
       "      <th></th>\n",
       "      <th>category</th>\n",
       "      <th>brand</th>\n",
       "      <th>score</th>\n",
       "    </tr>\n",
       "  </thead>\n",
       "  <tbody>\n",
       "    <tr>\n",
       "      <th>15</th>\n",
       "      <td>洗髮</td>\n",
       "      <td>ANGFA</td>\n",
       "      <td>101666</td>\n",
       "    </tr>\n",
       "    <tr>\n",
       "      <th>12</th>\n",
       "      <td>保濕</td>\n",
       "      <td>KOSE</td>\n",
       "      <td>86453</td>\n",
       "    </tr>\n",
       "    <tr>\n",
       "      <th>9</th>\n",
       "      <td>保濕</td>\n",
       "      <td>ANGFA</td>\n",
       "      <td>45440</td>\n",
       "    </tr>\n",
       "  </tbody>\n",
       "</table>\n",
       "</div>"
      ],
      "text/plain": [
       "   category  brand   score\n",
       "15       洗髮  ANGFA  101666\n",
       "12       保濕   KOSE   86453\n",
       "9        保濕  ANGFA   45440"
      ]
     },
     "execution_count": 30,
     "metadata": {},
     "output_type": "execute_result"
    }
   ],
   "source": [
    "top_tab = top_tab[['category', 'brand', 'score']].groupby(['category', 'brand'])['score'].sum()\n",
    "top_tab = top_tab.reset_index(drop=False)\n",
    "\n",
    "df = top_tab[['category', 'brand', 'score']].drop_duplicates()  \n",
    "top_n_cb = df.sort_values(['score'],ascending=False)\n",
    "\n",
    "top_n_cb['category'] = top_n_cb['category'].map(cat_map)\n",
    "\n",
    "top_n_cb.head(3)"
   ]
  },
  {
   "cell_type": "code",
   "execution_count": 31,
   "metadata": {},
   "outputs": [],
   "source": [
    "top_n_cb.to_csv(f'{path[1]}{top_file[2]}.csv', encoding='utf8', index=False)"
   ]
  },
  {
   "cell_type": "code",
   "execution_count": null,
   "metadata": {},
   "outputs": [],
   "source": []
  }
 ],
 "metadata": {
  "kernelspec": {
   "display_name": "Python 3",
   "language": "python",
   "name": "python3"
  },
  "language_info": {
   "codemirror_mode": {
    "name": "ipython",
    "version": 3
   },
   "file_extension": ".py",
   "mimetype": "text/x-python",
   "name": "python",
   "nbconvert_exporter": "python",
   "pygments_lexer": "ipython3",
   "version": "3.6.5"
  }
 },
 "nbformat": 4,
 "nbformat_minor": 2
}
